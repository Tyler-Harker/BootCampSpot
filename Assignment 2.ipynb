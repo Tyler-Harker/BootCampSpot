{
  "cells": [
    {
      "cell_type": "markdown",
      "metadata": {
        "id": "XPi6NVwhl298"
      },
      "source": [
        "# Student Loan Risk with Deep Learning"
      ]
    },
    {
      "cell_type": "code",
      "execution_count": 546,
      "metadata": {
        "colab": {
          "base_uri": "https://localhost:8080/"
        },
        "id": "bSMBB9gjl299",
        "outputId": "8db73442-a77b-420d-9ecd-df2430bb1306"
      },
      "outputs": [
        {
          "name": "stdout",
          "output_type": "stream",
          "text": [
            "Requirement already satisfied: tensorflow in c:\\users\\local-home\\anaconda3\\lib\\site-packages (2.15.0)\n",
            "Requirement already satisfied: tensorflow-intel==2.15.0 in c:\\users\\local-home\\anaconda3\\lib\\site-packages (from tensorflow) (2.15.0)\n",
            "Requirement already satisfied: absl-py>=1.0.0 in c:\\users\\local-home\\anaconda3\\lib\\site-packages (from tensorflow-intel==2.15.0->tensorflow) (2.1.0)\n",
            "Requirement already satisfied: astunparse>=1.6.0 in c:\\users\\local-home\\anaconda3\\lib\\site-packages (from tensorflow-intel==2.15.0->tensorflow) (1.6.3)\n",
            "Requirement already satisfied: flatbuffers>=23.5.26 in c:\\users\\local-home\\anaconda3\\lib\\site-packages (from tensorflow-intel==2.15.0->tensorflow) (23.5.26)\n",
            "Requirement already satisfied: gast!=0.5.0,!=0.5.1,!=0.5.2,>=0.2.1 in c:\\users\\local-home\\anaconda3\\lib\\site-packages (from tensorflow-intel==2.15.0->tensorflow) (0.5.4)\n",
            "Requirement already satisfied: google-pasta>=0.1.1 in c:\\users\\local-home\\anaconda3\\lib\\site-packages (from tensorflow-intel==2.15.0->tensorflow) (0.2.0)\n",
            "Requirement already satisfied: h5py>=2.9.0 in c:\\users\\local-home\\anaconda3\\lib\\site-packages (from tensorflow-intel==2.15.0->tensorflow) (3.9.0)\n",
            "Requirement already satisfied: libclang>=13.0.0 in c:\\users\\local-home\\anaconda3\\lib\\site-packages (from tensorflow-intel==2.15.0->tensorflow) (16.0.6)\n",
            "Requirement already satisfied: ml-dtypes~=0.2.0 in c:\\users\\local-home\\anaconda3\\lib\\site-packages (from tensorflow-intel==2.15.0->tensorflow) (0.2.0)\n",
            "Requirement already satisfied: numpy<2.0.0,>=1.23.5 in c:\\users\\local-home\\anaconda3\\lib\\site-packages (from tensorflow-intel==2.15.0->tensorflow) (1.26.2)\n",
            "Requirement already satisfied: opt-einsum>=2.3.2 in c:\\users\\local-home\\anaconda3\\lib\\site-packages (from tensorflow-intel==2.15.0->tensorflow) (3.3.0)\n",
            "Requirement already satisfied: packaging in c:\\users\\local-home\\anaconda3\\lib\\site-packages (from tensorflow-intel==2.15.0->tensorflow) (23.1)\n",
            "Requirement already satisfied: protobuf!=4.21.0,!=4.21.1,!=4.21.2,!=4.21.3,!=4.21.4,!=4.21.5,<5.0.0dev,>=3.20.3 in c:\\users\\local-home\\anaconda3\\lib\\site-packages (from tensorflow-intel==2.15.0->tensorflow) (4.23.4)\n",
            "Requirement already satisfied: setuptools in c:\\users\\local-home\\anaconda3\\lib\\site-packages (from tensorflow-intel==2.15.0->tensorflow) (68.0.0)\n",
            "Requirement already satisfied: six>=1.12.0 in c:\\users\\local-home\\anaconda3\\lib\\site-packages (from tensorflow-intel==2.15.0->tensorflow) (1.16.0)\n",
            "Requirement already satisfied: termcolor>=1.1.0 in c:\\users\\local-home\\anaconda3\\lib\\site-packages (from tensorflow-intel==2.15.0->tensorflow) (2.4.0)\n",
            "Requirement already satisfied: typing-extensions>=3.6.6 in c:\\users\\local-home\\anaconda3\\lib\\site-packages (from tensorflow-intel==2.15.0->tensorflow) (4.7.1)\n",
            "Requirement already satisfied: wrapt<1.15,>=1.11.0 in c:\\users\\local-home\\anaconda3\\lib\\site-packages (from tensorflow-intel==2.15.0->tensorflow) (1.14.1)\n",
            "Requirement already satisfied: tensorflow-io-gcs-filesystem>=0.23.1 in c:\\users\\local-home\\anaconda3\\lib\\site-packages (from tensorflow-intel==2.15.0->tensorflow) (0.31.0)\n",
            "Requirement already satisfied: grpcio<2.0,>=1.24.3 in c:\\users\\local-home\\anaconda3\\lib\\site-packages (from tensorflow-intel==2.15.0->tensorflow) (1.60.1)\n",
            "Requirement already satisfied: tensorboard<2.16,>=2.15 in c:\\users\\local-home\\anaconda3\\lib\\site-packages (from tensorflow-intel==2.15.0->tensorflow) (2.15.1)\n",
            "Requirement already satisfied: tensorflow-estimator<2.16,>=2.15.0 in c:\\users\\local-home\\anaconda3\\lib\\site-packages (from tensorflow-intel==2.15.0->tensorflow) (2.15.0)\n",
            "Requirement already satisfied: keras<2.16,>=2.15.0 in c:\\users\\local-home\\anaconda3\\lib\\site-packages (from tensorflow-intel==2.15.0->tensorflow) (2.15.0)\n",
            "Requirement already satisfied: wheel<1.0,>=0.23.0 in c:\\users\\local-home\\anaconda3\\lib\\site-packages (from astunparse>=1.6.0->tensorflow-intel==2.15.0->tensorflow) (0.38.4)\n",
            "Requirement already satisfied: google-auth<3,>=1.6.3 in c:\\users\\local-home\\anaconda3\\lib\\site-packages (from tensorboard<2.16,>=2.15->tensorflow-intel==2.15.0->tensorflow) (2.27.0)\n",
            "Requirement already satisfied: google-auth-oauthlib<2,>=0.5 in c:\\users\\local-home\\anaconda3\\lib\\site-packages (from tensorboard<2.16,>=2.15->tensorflow-intel==2.15.0->tensorflow) (1.2.0)\n",
            "Requirement already satisfied: markdown>=2.6.8 in c:\\users\\local-home\\anaconda3\\lib\\site-packages (from tensorboard<2.16,>=2.15->tensorflow-intel==2.15.0->tensorflow) (3.4.1)\n",
            "Requirement already satisfied: requests<3,>=2.21.0 in c:\\users\\local-home\\anaconda3\\lib\\site-packages (from tensorboard<2.16,>=2.15->tensorflow-intel==2.15.0->tensorflow) (2.31.0)\n",
            "Requirement already satisfied: tensorboard-data-server<0.8.0,>=0.7.0 in c:\\users\\local-home\\anaconda3\\lib\\site-packages (from tensorboard<2.16,>=2.15->tensorflow-intel==2.15.0->tensorflow) (0.7.2)\n",
            "Requirement already satisfied: werkzeug>=1.0.1 in c:\\users\\local-home\\anaconda3\\lib\\site-packages (from tensorboard<2.16,>=2.15->tensorflow-intel==2.15.0->tensorflow) (2.2.3)\n",
            "Requirement already satisfied: cachetools<6.0,>=2.0.0 in c:\\users\\local-home\\anaconda3\\lib\\site-packages (from google-auth<3,>=1.6.3->tensorboard<2.16,>=2.15->tensorflow-intel==2.15.0->tensorflow) (5.3.2)\n",
            "Requirement already satisfied: pyasn1-modules>=0.2.1 in c:\\users\\local-home\\anaconda3\\lib\\site-packages (from google-auth<3,>=1.6.3->tensorboard<2.16,>=2.15->tensorflow-intel==2.15.0->tensorflow) (0.2.8)\n",
            "Requirement already satisfied: rsa<5,>=3.1.4 in c:\\users\\local-home\\anaconda3\\lib\\site-packages (from google-auth<3,>=1.6.3->tensorboard<2.16,>=2.15->tensorflow-intel==2.15.0->tensorflow) (4.9)\n",
            "Requirement already satisfied: requests-oauthlib>=0.7.0 in c:\\users\\local-home\\anaconda3\\lib\\site-packages (from google-auth-oauthlib<2,>=0.5->tensorboard<2.16,>=2.15->tensorflow-intel==2.15.0->tensorflow) (1.3.1)\n",
            "Requirement already satisfied: charset-normalizer<4,>=2 in c:\\users\\local-home\\anaconda3\\lib\\site-packages (from requests<3,>=2.21.0->tensorboard<2.16,>=2.15->tensorflow-intel==2.15.0->tensorflow) (2.0.4)\n",
            "Requirement already satisfied: idna<4,>=2.5 in c:\\users\\local-home\\anaconda3\\lib\\site-packages (from requests<3,>=2.21.0->tensorboard<2.16,>=2.15->tensorflow-intel==2.15.0->tensorflow) (3.4)\n",
            "Requirement already satisfied: urllib3<3,>=1.21.1 in c:\\users\\local-home\\anaconda3\\lib\\site-packages (from requests<3,>=2.21.0->tensorboard<2.16,>=2.15->tensorflow-intel==2.15.0->tensorflow) (1.26.18)\n",
            "Requirement already satisfied: certifi>=2017.4.17 in c:\\users\\local-home\\anaconda3\\lib\\site-packages (from requests<3,>=2.21.0->tensorboard<2.16,>=2.15->tensorflow-intel==2.15.0->tensorflow) (2023.11.17)\n",
            "Requirement already satisfied: MarkupSafe>=2.1.1 in c:\\users\\local-home\\anaconda3\\lib\\site-packages (from werkzeug>=1.0.1->tensorboard<2.16,>=2.15->tensorflow-intel==2.15.0->tensorflow) (2.1.1)\n",
            "Requirement already satisfied: pyasn1<0.5.0,>=0.4.6 in c:\\users\\local-home\\anaconda3\\lib\\site-packages (from pyasn1-modules>=0.2.1->google-auth<3,>=1.6.3->tensorboard<2.16,>=2.15->tensorflow-intel==2.15.0->tensorflow) (0.4.8)\n",
            "Requirement already satisfied: oauthlib>=3.0.0 in c:\\users\\local-home\\anaconda3\\lib\\site-packages (from requests-oauthlib>=0.7.0->google-auth-oauthlib<2,>=0.5->tensorboard<2.16,>=2.15->tensorflow-intel==2.15.0->tensorflow) (3.2.2)\n",
            "Note: you may need to restart the kernel to use updated packages.\n"
          ]
        }
      ],
      "source": [
        "# Imports\n",
        "import pandas as pd\n",
        "from pathlib import Path\n",
        "import tensorflow as tf\n",
        "from tensorflow.keras.models import Sequential\n",
        "from tensorflow.keras.layers import Dense\n",
        "from tensorflow.keras.models import save_model\n",
        "from tensorflow.keras.models import load_model\n",
        "from tensorflow.keras.optimizers import Adam\n",
        "from sklearn.model_selection import train_test_split\n",
        "from sklearn.preprocessing import StandardScaler"
      ]
    },
    {
      "cell_type": "markdown",
      "metadata": {
        "id": "Yg7Yav-Yl29-"
      },
      "source": [
        "---\n",
        "\n",
        "## Prepare the data to be used on a neural network model"
      ]
    },
    {
      "cell_type": "code",
      "execution_count": 547,
      "metadata": {
        "colab": {
          "base_uri": "https://localhost:8080/",
          "height": 206
        },
        "id": "9lFWYJAkl29-",
        "outputId": "78346fd3-68a9-401e-9b56-e01114888724"
      },
      "outputs": [
        {
          "data": {
            "text/html": [
              "<div>\n",
              "<style scoped>\n",
              "    .dataframe tbody tr th:only-of-type {\n",
              "        vertical-align: middle;\n",
              "    }\n",
              "\n",
              "    .dataframe tbody tr th {\n",
              "        vertical-align: top;\n",
              "    }\n",
              "\n",
              "    .dataframe thead th {\n",
              "        text-align: right;\n",
              "    }\n",
              "</style>\n",
              "<table border=\"1\" class=\"dataframe\">\n",
              "  <thead>\n",
              "    <tr style=\"text-align: right;\">\n",
              "      <th></th>\n",
              "      <th>payment_history</th>\n",
              "      <th>location_parameter</th>\n",
              "      <th>stem_degree_score</th>\n",
              "      <th>gpa_ranking</th>\n",
              "      <th>alumni_success</th>\n",
              "      <th>study_major_code</th>\n",
              "      <th>time_to_completion</th>\n",
              "      <th>finance_workshop_score</th>\n",
              "      <th>cohort_ranking</th>\n",
              "      <th>total_loan_score</th>\n",
              "      <th>financial_aid_score</th>\n",
              "      <th>credit_ranking</th>\n",
              "    </tr>\n",
              "  </thead>\n",
              "  <tbody>\n",
              "    <tr>\n",
              "      <th>0</th>\n",
              "      <td>7.4</td>\n",
              "      <td>0.70</td>\n",
              "      <td>0.00</td>\n",
              "      <td>1.9</td>\n",
              "      <td>0.076</td>\n",
              "      <td>11.0</td>\n",
              "      <td>34.0</td>\n",
              "      <td>0.9978</td>\n",
              "      <td>3.51</td>\n",
              "      <td>0.56</td>\n",
              "      <td>9.4</td>\n",
              "      <td>5</td>\n",
              "    </tr>\n",
              "    <tr>\n",
              "      <th>1</th>\n",
              "      <td>7.8</td>\n",
              "      <td>0.88</td>\n",
              "      <td>0.00</td>\n",
              "      <td>2.6</td>\n",
              "      <td>0.098</td>\n",
              "      <td>25.0</td>\n",
              "      <td>67.0</td>\n",
              "      <td>0.9968</td>\n",
              "      <td>3.20</td>\n",
              "      <td>0.68</td>\n",
              "      <td>9.8</td>\n",
              "      <td>5</td>\n",
              "    </tr>\n",
              "    <tr>\n",
              "      <th>2</th>\n",
              "      <td>7.8</td>\n",
              "      <td>0.76</td>\n",
              "      <td>0.04</td>\n",
              "      <td>2.3</td>\n",
              "      <td>0.092</td>\n",
              "      <td>15.0</td>\n",
              "      <td>54.0</td>\n",
              "      <td>0.9970</td>\n",
              "      <td>3.26</td>\n",
              "      <td>0.65</td>\n",
              "      <td>9.8</td>\n",
              "      <td>5</td>\n",
              "    </tr>\n",
              "    <tr>\n",
              "      <th>3</th>\n",
              "      <td>11.2</td>\n",
              "      <td>0.28</td>\n",
              "      <td>0.56</td>\n",
              "      <td>1.9</td>\n",
              "      <td>0.075</td>\n",
              "      <td>17.0</td>\n",
              "      <td>60.0</td>\n",
              "      <td>0.9980</td>\n",
              "      <td>3.16</td>\n",
              "      <td>0.58</td>\n",
              "      <td>9.8</td>\n",
              "      <td>6</td>\n",
              "    </tr>\n",
              "    <tr>\n",
              "      <th>4</th>\n",
              "      <td>7.4</td>\n",
              "      <td>0.70</td>\n",
              "      <td>0.00</td>\n",
              "      <td>1.9</td>\n",
              "      <td>0.076</td>\n",
              "      <td>11.0</td>\n",
              "      <td>34.0</td>\n",
              "      <td>0.9978</td>\n",
              "      <td>3.51</td>\n",
              "      <td>0.56</td>\n",
              "      <td>9.4</td>\n",
              "      <td>5</td>\n",
              "    </tr>\n",
              "  </tbody>\n",
              "</table>\n",
              "</div>"
            ],
            "text/plain": [
              "   payment_history  location_parameter  stem_degree_score  gpa_ranking  \\\n",
              "0              7.4                0.70               0.00          1.9   \n",
              "1              7.8                0.88               0.00          2.6   \n",
              "2              7.8                0.76               0.04          2.3   \n",
              "3             11.2                0.28               0.56          1.9   \n",
              "4              7.4                0.70               0.00          1.9   \n",
              "\n",
              "   alumni_success  study_major_code  time_to_completion  \\\n",
              "0           0.076              11.0                34.0   \n",
              "1           0.098              25.0                67.0   \n",
              "2           0.092              15.0                54.0   \n",
              "3           0.075              17.0                60.0   \n",
              "4           0.076              11.0                34.0   \n",
              "\n",
              "   finance_workshop_score  cohort_ranking  total_loan_score  \\\n",
              "0                  0.9978            3.51              0.56   \n",
              "1                  0.9968            3.20              0.68   \n",
              "2                  0.9970            3.26              0.65   \n",
              "3                  0.9980            3.16              0.58   \n",
              "4                  0.9978            3.51              0.56   \n",
              "\n",
              "   financial_aid_score  credit_ranking  \n",
              "0                  9.4               5  \n",
              "1                  9.8               5  \n",
              "2                  9.8               5  \n",
              "3                  9.8               6  \n",
              "4                  9.4               5  "
            ]
          },
          "execution_count": 547,
          "metadata": {},
          "output_type": "execute_result"
        }
      ],
      "source": [
        "# Read the csv into a Pandas DataFrame\n",
        "file_path = \"https://static.bc-edx.com/mbc/ai/m6/datasets/student_loans.csv\"\n",
        "data = pd.read_csv(file_path)\n",
        "\n",
        "# Review the DataFrame\n",
        "data.head()"
      ]
    },
    {
      "cell_type": "markdown",
      "metadata": {
        "id": "rLC5l3wSl29-"
      },
      "source": [
        "### Step 1: Read the `student_loans.csv` file into a Pandas DataFrame. Review the DataFrame, looking for columns that could eventually define your features and target variables.   "
      ]
    },
    {
      "cell_type": "code",
      "execution_count": 548,
      "metadata": {
        "colab": {
          "base_uri": "https://localhost:8080/"
        },
        "id": "LI2VcArTl29-",
        "outputId": "6358d603-8c52-413c-bdce-73d296529263"
      },
      "outputs": [
        {
          "name": "stdout",
          "output_type": "stream",
          "text": [
            "payment_history           float64\n",
            "location_parameter        float64\n",
            "stem_degree_score         float64\n",
            "gpa_ranking               float64\n",
            "alumni_success            float64\n",
            "study_major_code          float64\n",
            "time_to_completion        float64\n",
            "finance_workshop_score    float64\n",
            "cohort_ranking            float64\n",
            "total_loan_score          float64\n",
            "financial_aid_score       float64\n",
            "credit_ranking              int64\n",
            "dtype: object\n"
          ]
        }
      ],
      "source": [
        "# Review the data types associated with the columns\n",
        "print(data.dtypes)"
      ]
    },
    {
      "cell_type": "markdown",
      "metadata": {
        "id": "R1LExy_El29-"
      },
      "source": [
        "### Step 2: Using the preprocessed data, create the features (`X`) and target (`y`) datasets. The target dataset should be defined by the preprocessed DataFrame column “credit_ranking”. The remaining columns should define the features dataset."
      ]
    },
    {
      "cell_type": "code",
      "execution_count": 549,
      "metadata": {
        "colab": {
          "base_uri": "https://localhost:8080/"
        },
        "id": "p8-rw48ll29-",
        "outputId": "4c900435-d8a5-4f05-f9f8-7bd9279dcd2b"
      },
      "outputs": [
        {
          "data": {
            "text/plain": [
              "216     5\n",
              "921     6\n",
              "214     6\n",
              "701     6\n",
              "1449    8\n",
              "1178    5\n",
              "507     6\n",
              "591     6\n",
              "734     5\n",
              "1454    6\n",
              "Name: credit_ranking, dtype: int64"
            ]
          },
          "execution_count": 549,
          "metadata": {},
          "output_type": "execute_result"
        }
      ],
      "source": [
        "# Define the target set y using the credit_ranking column\n",
        "y = data[\"credit_ranking\"]\n",
        "\n",
        "# Display a sample of y\n",
        "y.sample(n=10)"
      ]
    },
    {
      "cell_type": "code",
      "execution_count": 550,
      "metadata": {
        "colab": {
          "base_uri": "https://localhost:8080/",
          "height": 206
        },
        "id": "AIQOd_c-l29_",
        "outputId": "81fce59e-f411-42a7-e402-8e2ceb563d09"
      },
      "outputs": [
        {
          "data": {
            "text/html": [
              "<div>\n",
              "<style scoped>\n",
              "    .dataframe tbody tr th:only-of-type {\n",
              "        vertical-align: middle;\n",
              "    }\n",
              "\n",
              "    .dataframe tbody tr th {\n",
              "        vertical-align: top;\n",
              "    }\n",
              "\n",
              "    .dataframe thead th {\n",
              "        text-align: right;\n",
              "    }\n",
              "</style>\n",
              "<table border=\"1\" class=\"dataframe\">\n",
              "  <thead>\n",
              "    <tr style=\"text-align: right;\">\n",
              "      <th></th>\n",
              "      <th>payment_history</th>\n",
              "      <th>location_parameter</th>\n",
              "      <th>stem_degree_score</th>\n",
              "      <th>gpa_ranking</th>\n",
              "      <th>alumni_success</th>\n",
              "      <th>study_major_code</th>\n",
              "      <th>time_to_completion</th>\n",
              "      <th>finance_workshop_score</th>\n",
              "      <th>cohort_ranking</th>\n",
              "      <th>total_loan_score</th>\n",
              "      <th>financial_aid_score</th>\n",
              "    </tr>\n",
              "  </thead>\n",
              "  <tbody>\n",
              "    <tr>\n",
              "      <th>0</th>\n",
              "      <td>7.4</td>\n",
              "      <td>0.70</td>\n",
              "      <td>0.00</td>\n",
              "      <td>1.9</td>\n",
              "      <td>0.076</td>\n",
              "      <td>11.0</td>\n",
              "      <td>34.0</td>\n",
              "      <td>0.9978</td>\n",
              "      <td>3.51</td>\n",
              "      <td>0.56</td>\n",
              "      <td>9.4</td>\n",
              "    </tr>\n",
              "    <tr>\n",
              "      <th>1</th>\n",
              "      <td>7.8</td>\n",
              "      <td>0.88</td>\n",
              "      <td>0.00</td>\n",
              "      <td>2.6</td>\n",
              "      <td>0.098</td>\n",
              "      <td>25.0</td>\n",
              "      <td>67.0</td>\n",
              "      <td>0.9968</td>\n",
              "      <td>3.20</td>\n",
              "      <td>0.68</td>\n",
              "      <td>9.8</td>\n",
              "    </tr>\n",
              "    <tr>\n",
              "      <th>2</th>\n",
              "      <td>7.8</td>\n",
              "      <td>0.76</td>\n",
              "      <td>0.04</td>\n",
              "      <td>2.3</td>\n",
              "      <td>0.092</td>\n",
              "      <td>15.0</td>\n",
              "      <td>54.0</td>\n",
              "      <td>0.9970</td>\n",
              "      <td>3.26</td>\n",
              "      <td>0.65</td>\n",
              "      <td>9.8</td>\n",
              "    </tr>\n",
              "    <tr>\n",
              "      <th>3</th>\n",
              "      <td>11.2</td>\n",
              "      <td>0.28</td>\n",
              "      <td>0.56</td>\n",
              "      <td>1.9</td>\n",
              "      <td>0.075</td>\n",
              "      <td>17.0</td>\n",
              "      <td>60.0</td>\n",
              "      <td>0.9980</td>\n",
              "      <td>3.16</td>\n",
              "      <td>0.58</td>\n",
              "      <td>9.8</td>\n",
              "    </tr>\n",
              "    <tr>\n",
              "      <th>4</th>\n",
              "      <td>7.4</td>\n",
              "      <td>0.70</td>\n",
              "      <td>0.00</td>\n",
              "      <td>1.9</td>\n",
              "      <td>0.076</td>\n",
              "      <td>11.0</td>\n",
              "      <td>34.0</td>\n",
              "      <td>0.9978</td>\n",
              "      <td>3.51</td>\n",
              "      <td>0.56</td>\n",
              "      <td>9.4</td>\n",
              "    </tr>\n",
              "  </tbody>\n",
              "</table>\n",
              "</div>"
            ],
            "text/plain": [
              "   payment_history  location_parameter  stem_degree_score  gpa_ranking  \\\n",
              "0              7.4                0.70               0.00          1.9   \n",
              "1              7.8                0.88               0.00          2.6   \n",
              "2              7.8                0.76               0.04          2.3   \n",
              "3             11.2                0.28               0.56          1.9   \n",
              "4              7.4                0.70               0.00          1.9   \n",
              "\n",
              "   alumni_success  study_major_code  time_to_completion  \\\n",
              "0           0.076              11.0                34.0   \n",
              "1           0.098              25.0                67.0   \n",
              "2           0.092              15.0                54.0   \n",
              "3           0.075              17.0                60.0   \n",
              "4           0.076              11.0                34.0   \n",
              "\n",
              "   finance_workshop_score  cohort_ranking  total_loan_score  \\\n",
              "0                  0.9978            3.51              0.56   \n",
              "1                  0.9968            3.20              0.68   \n",
              "2                  0.9970            3.26              0.65   \n",
              "3                  0.9980            3.16              0.58   \n",
              "4                  0.9978            3.51              0.56   \n",
              "\n",
              "   financial_aid_score  \n",
              "0                  9.4  \n",
              "1                  9.8  \n",
              "2                  9.8  \n",
              "3                  9.8  \n",
              "4                  9.4  "
            ]
          },
          "execution_count": 550,
          "metadata": {},
          "output_type": "execute_result"
        }
      ],
      "source": [
        "# Define features set X by selecting all columns but credit_ranking\n",
        "X = data.copy().drop(columns=\"credit_ranking\")\n",
        "\n",
        "# Review the features DataFrame\n",
        "X.head()"
      ]
    },
    {
      "cell_type": "markdown",
      "metadata": {
        "id": "aXB8IBx4l29_"
      },
      "source": [
        "### Step 3: Split the features and target sets into training and testing datasets.\n"
      ]
    },
    {
      "cell_type": "code",
      "execution_count": 551,
      "metadata": {
        "id": "OGACjD3Ul29_"
      },
      "outputs": [],
      "source": [
        "# Split the preprocessed data into a training and testing dataset\n",
        "# Assign the function a random_state equal to 1\n",
        "X_train, X_test, y_train, y_test = train_test_split(X, y, random_state=1)"
      ]
    },
    {
      "cell_type": "markdown",
      "metadata": {
        "id": "nkCqp8VAl29_"
      },
      "source": [
        "### Step 4: Use scikit-learn's `StandardScaler` to scale the features data."
      ]
    },
    {
      "cell_type": "code",
      "execution_count": 552,
      "metadata": {
        "id": "8Ec1oY6Ol29_"
      },
      "outputs": [],
      "source": [
        "# Create a StandardScaler instance\n",
        "standard_scaler = StandardScaler()\n",
        "\n",
        "# Fit the scaler to the features training dataset\n",
        "standard_scaler.fit(X_train)\n",
        "\n",
        "# Fit the scaler to the features training dataset\n",
        "X_train_scaled = standard_scaler.transform(X_train)\n",
        "X_test_scaled = standard_scaler.transform(X_test)"
      ]
    },
    {
      "cell_type": "markdown",
      "metadata": {
        "id": "uYocZMvql29_"
      },
      "source": [
        "---\n",
        "\n",
        "## Compile and Evaluate a Model Using a Neural Network"
      ]
    },
    {
      "cell_type": "markdown",
      "metadata": {
        "id": "H_mqpbCDl2-A"
      },
      "source": [
        "### Step 1: Create a deep neural network by assigning the number of input features, the number of layers, and the number of neurons on each layer using Tensorflow’s Keras.\n",
        "\n",
        "> **Hint** You can start with a two-layer deep neural network model that uses the `relu` activation function for both layers.\n"
      ]
    },
    {
      "cell_type": "code",
      "execution_count": 553,
      "metadata": {
        "id": "o5oynnkPl2-A"
      },
      "outputs": [],
      "source": [
        "# Define the the number of inputs (features) to the model\n",
        "number_of_inputs = 11\n",
        "\n",
        "# Review the number of features\n"
      ]
    },
    {
      "cell_type": "code",
      "execution_count": 554,
      "metadata": {
        "id": "9BDXn_HPl2-A"
      },
      "outputs": [],
      "source": [
        "# Define the number of neurons in the output layer\n",
        "output_nodes = 1"
      ]
    },
    {
      "cell_type": "code",
      "execution_count": 555,
      "metadata": {
        "id": "DztyaQRLl2-A"
      },
      "outputs": [],
      "source": [
        "# Define the number of hidden nodes for the first hidden layer\n",
        "layer1_nodes = 6\n",
        "\n",
        "# Review the number hidden nodes in the first layer\n"
      ]
    },
    {
      "cell_type": "code",
      "execution_count": 556,
      "metadata": {
        "id": "Wgpj7KuGl2-A"
      },
      "outputs": [],
      "source": [
        "# Define the number of hidden nodes for the second hidden layer\n",
        "layer2_nodes = 4\n",
        "\n",
        "# Review the number hidden nodes in the second layer\n"
      ]
    },
    {
      "cell_type": "code",
      "execution_count": 557,
      "metadata": {
        "id": "x1Wbc50Wl2-A"
      },
      "outputs": [],
      "source": [
        "# Create the Sequential model instance\n",
        "nn = Sequential()"
      ]
    },
    {
      "cell_type": "code",
      "execution_count": 558,
      "metadata": {
        "id": "W3gaoyPpl2-A"
      },
      "outputs": [],
      "source": [
        "# Add the first hidden layer\n",
        "nn.add(Dense(units=layer1_nodes, input_dim=number_of_inputs, activation=\"relu\"))\n"
      ]
    },
    {
      "cell_type": "code",
      "execution_count": 559,
      "metadata": {
        "id": "lyKjCw7Nl2-A"
      },
      "outputs": [],
      "source": [
        "# Add the second hidden layer\n",
        "nn.add(Dense(units=layer2_nodes, activation=\"relu\"))\n"
      ]
    },
    {
      "cell_type": "code",
      "execution_count": 560,
      "metadata": {
        "id": "XhZ9gwOGl2-A"
      },
      "outputs": [],
      "source": [
        "# Add the output layer to the model specifying the number of output neurons and activation function\n",
        "nn.add(Dense(units=output_nodes, activation=\"linear\"))"
      ]
    },
    {
      "cell_type": "code",
      "execution_count": 561,
      "metadata": {
        "colab": {
          "base_uri": "https://localhost:8080/"
        },
        "id": "sJbMxp9ql2-A",
        "outputId": "97449b75-5a88-41dd-9605-2731c7d2a3c7"
      },
      "outputs": [
        {
          "name": "stdout",
          "output_type": "stream",
          "text": [
            "Model: \"sequential_192\"\n",
            "_________________________________________________________________\n",
            " Layer (type)                Output Shape              Param #   \n",
            "=================================================================\n",
            " dense_577 (Dense)           (None, 6)                 72        \n",
            "                                                                 \n",
            " dense_578 (Dense)           (None, 4)                 28        \n",
            "                                                                 \n",
            " dense_579 (Dense)           (None, 1)                 5         \n",
            "                                                                 \n",
            "=================================================================\n",
            "Total params: 105 (420.00 Byte)\n",
            "Trainable params: 105 (420.00 Byte)\n",
            "Non-trainable params: 0 (0.00 Byte)\n",
            "_________________________________________________________________\n"
          ]
        }
      ],
      "source": [
        "# Display the Sequential model summary\n",
        "nn.summary()"
      ]
    },
    {
      "cell_type": "markdown",
      "metadata": {
        "id": "AjMseBarl2-A"
      },
      "source": [
        "### Step 2: Compile and fit the model using the `mse` loss function, the `adam` optimizer, and the `mse` evaluation metric.\n"
      ]
    },
    {
      "cell_type": "code",
      "execution_count": 562,
      "metadata": {
        "id": "emKrFgfXl2-A"
      },
      "outputs": [],
      "source": [
        "# Compile the Sequential model\n",
        "nn.compile(loss=\"mean_squared_error\", optimizer=Adam(), metrics=[\"accuracy\"])"
      ]
    },
    {
      "cell_type": "code",
      "execution_count": 563,
      "metadata": {
        "colab": {
          "base_uri": "https://localhost:8080/"
        },
        "id": "SUGssbJ5l2-A",
        "outputId": "9c2acb8a-ba14-4f21-96fc-bdce73c17d4e"
      },
      "outputs": [
        {
          "name": "stdout",
          "output_type": "stream",
          "text": [
            "Epoch 1/50\n"
          ]
        },
        {
          "name": "stdout",
          "output_type": "stream",
          "text": [
            "38/38 [==============================] - 0s 1ms/step - loss: 28.0068 - accuracy: 0.0000e+00\n",
            "Epoch 2/50\n",
            "38/38 [==============================] - 0s 1ms/step - loss: 23.7386 - accuracy: 0.0000e+00\n",
            "Epoch 3/50\n",
            "38/38 [==============================] - 0s 1ms/step - loss: 19.2503 - accuracy: 0.0000e+00\n",
            "Epoch 4/50\n",
            "38/38 [==============================] - 0s 1ms/step - loss: 14.8497 - accuracy: 0.0000e+00\n",
            "Epoch 5/50\n",
            "38/38 [==============================] - 0s 1ms/step - loss: 11.1884 - accuracy: 0.0000e+00\n",
            "Epoch 6/50\n",
            "38/38 [==============================] - 0s 1ms/step - loss: 8.5210 - accuracy: 0.0000e+00\n",
            "Epoch 7/50\n",
            "38/38 [==============================] - 0s 1ms/step - loss: 6.6388 - accuracy: 0.0000e+00\n",
            "Epoch 8/50\n",
            "38/38 [==============================] - 0s 976us/step - loss: 5.2046 - accuracy: 0.0000e+00\n",
            "Epoch 9/50\n",
            "38/38 [==============================] - 0s 963us/step - loss: 4.1516 - accuracy: 0.0000e+00\n",
            "Epoch 10/50\n",
            "38/38 [==============================] - 0s 933us/step - loss: 3.4283 - accuracy: 0.0000e+00\n",
            "Epoch 11/50\n",
            "38/38 [==============================] - 0s 922us/step - loss: 2.9410 - accuracy: 0.0000e+00\n",
            "Epoch 12/50\n",
            "38/38 [==============================] - 0s 895us/step - loss: 2.6161 - accuracy: 0.0000e+00\n",
            "Epoch 13/50\n",
            "38/38 [==============================] - 0s 973us/step - loss: 2.3835 - accuracy: 0.0000e+00\n",
            "Epoch 14/50\n",
            "38/38 [==============================] - 0s 958us/step - loss: 2.2104 - accuracy: 0.0000e+00\n",
            "Epoch 15/50\n",
            "38/38 [==============================] - 0s 852us/step - loss: 2.0721 - accuracy: 0.0000e+00\n",
            "Epoch 16/50\n",
            "38/38 [==============================] - 0s 838us/step - loss: 1.9477 - accuracy: 0.0000e+00\n",
            "Epoch 17/50\n",
            "38/38 [==============================] - 0s 892us/step - loss: 1.8452 - accuracy: 0.0000e+00\n",
            "Epoch 18/50\n",
            "38/38 [==============================] - 0s 879us/step - loss: 1.7505 - accuracy: 0.0000e+00\n",
            "Epoch 19/50\n",
            "38/38 [==============================] - 0s 926us/step - loss: 1.6682 - accuracy: 0.0000e+00\n",
            "Epoch 20/50\n",
            "38/38 [==============================] - 0s 878us/step - loss: 1.5918 - accuracy: 0.0000e+00\n",
            "Epoch 21/50\n",
            "38/38 [==============================] - 0s 871us/step - loss: 1.5267 - accuracy: 0.0000e+00\n",
            "Epoch 22/50\n",
            "38/38 [==============================] - 0s 877us/step - loss: 1.4612 - accuracy: 0.0000e+00\n",
            "Epoch 23/50\n",
            "38/38 [==============================] - 0s 852us/step - loss: 1.4035 - accuracy: 0.0000e+00\n",
            "Epoch 24/50\n",
            "38/38 [==============================] - 0s 868us/step - loss: 1.3512 - accuracy: 0.0000e+00\n",
            "Epoch 25/50\n",
            "38/38 [==============================] - 0s 871us/step - loss: 1.3058 - accuracy: 0.0000e+00\n",
            "Epoch 26/50\n",
            "38/38 [==============================] - 0s 1ms/step - loss: 1.2613 - accuracy: 0.0000e+00\n",
            "Epoch 27/50\n",
            "38/38 [==============================] - 0s 892us/step - loss: 1.2174 - accuracy: 0.0000e+00\n",
            "Epoch 28/50\n",
            "38/38 [==============================] - 0s 919us/step - loss: 1.1806 - accuracy: 0.0000e+00\n",
            "Epoch 29/50\n",
            "38/38 [==============================] - 0s 880us/step - loss: 1.1434 - accuracy: 0.0000e+00\n",
            "Epoch 30/50\n",
            "38/38 [==============================] - 0s 865us/step - loss: 1.1077 - accuracy: 0.0000e+00\n",
            "Epoch 31/50\n",
            "38/38 [==============================] - 0s 865us/step - loss: 1.0757 - accuracy: 0.0000e+00\n",
            "Epoch 32/50\n",
            "38/38 [==============================] - 0s 825us/step - loss: 1.0423 - accuracy: 0.0000e+00\n",
            "Epoch 33/50\n",
            "38/38 [==============================] - 0s 838us/step - loss: 1.0125 - accuracy: 0.0000e+00\n",
            "Epoch 34/50\n",
            "38/38 [==============================] - 0s 866us/step - loss: 0.9840 - accuracy: 0.0000e+00\n",
            "Epoch 35/50\n",
            "38/38 [==============================] - 0s 863us/step - loss: 0.9520 - accuracy: 0.0000e+00\n",
            "Epoch 36/50\n",
            "38/38 [==============================] - 0s 827us/step - loss: 0.9270 - accuracy: 0.0000e+00\n",
            "Epoch 37/50\n",
            "38/38 [==============================] - 0s 879us/step - loss: 0.9006 - accuracy: 0.0000e+00\n",
            "Epoch 38/50\n",
            "38/38 [==============================] - 0s 901us/step - loss: 0.8777 - accuracy: 0.0000e+00\n",
            "Epoch 39/50\n",
            "38/38 [==============================] - 0s 939us/step - loss: 0.8521 - accuracy: 0.0000e+00\n",
            "Epoch 40/50\n",
            "38/38 [==============================] - 0s 952us/step - loss: 0.8276 - accuracy: 0.0000e+00\n",
            "Epoch 41/50\n",
            "38/38 [==============================] - 0s 923us/step - loss: 0.8059 - accuracy: 0.0000e+00\n",
            "Epoch 42/50\n",
            "38/38 [==============================] - 0s 1ms/step - loss: 0.7847 - accuracy: 0.0000e+00\n",
            "Epoch 43/50\n",
            "38/38 [==============================] - 0s 902us/step - loss: 0.7637 - accuracy: 0.0000e+00\n",
            "Epoch 44/50\n",
            "38/38 [==============================] - 0s 892us/step - loss: 0.7447 - accuracy: 0.0000e+00\n",
            "Epoch 45/50\n",
            "38/38 [==============================] - 0s 919us/step - loss: 0.7226 - accuracy: 0.0000e+00\n",
            "Epoch 46/50\n",
            "38/38 [==============================] - 0s 906us/step - loss: 0.7029 - accuracy: 0.0000e+00\n",
            "Epoch 47/50\n",
            "38/38 [==============================] - 0s 892us/step - loss: 0.6866 - accuracy: 0.0000e+00\n",
            "Epoch 48/50\n",
            "38/38 [==============================] - 0s 868us/step - loss: 0.6662 - accuracy: 0.0000e+00\n",
            "Epoch 49/50\n",
            "38/38 [==============================] - 0s 842us/step - loss: 0.6497 - accuracy: 0.0000e+00\n",
            "Epoch 50/50\n",
            "38/38 [==============================] - 0s 811us/step - loss: 0.6357 - accuracy: 0.0000e+00\n"
          ]
        }
      ],
      "source": [
        "# Fit the model using 50 epochs and the training data\n",
        "deep_model = nn.fit(X_train_scaled, y_train, epochs=50)"
      ]
    },
    {
      "cell_type": "markdown",
      "metadata": {
        "id": "XnnFby7Vl2-A"
      },
      "source": [
        "### Step 3: Evaluate the model using the test data to determine the model’s loss and accuracy.\n"
      ]
    },
    {
      "cell_type": "code",
      "execution_count": 564,
      "metadata": {
        "colab": {
          "base_uri": "https://localhost:8080/"
        },
        "id": "naagOSYql2-A",
        "outputId": "c7319cbb-ad5d-4f93-86a8-58ca0d92acd7"
      },
      "outputs": [
        {
          "name": "stdout",
          "output_type": "stream",
          "text": [
            "13/13 - 0s - loss: 0.6793 - accuracy: 0.0000e+00 - 77ms/epoch - 6ms/step\n",
            "loss: 0.6793414950370789\n",
            "metrics: 0.0\n"
          ]
        }
      ],
      "source": [
        "# Evaluate the model loss and accuracy metrics using the evaluate method and the test data\n",
        "model_loss, model_metrics = nn.evaluate(X_test_scaled, y_test, verbose=2)\n",
        "\n",
        "# Display the model loss and accuracy results\n",
        "print(f\"loss: {model_loss}\")\n",
        "print(f\"metrics: {model_metrics}\")"
      ]
    },
    {
      "cell_type": "code",
      "execution_count": 565,
      "metadata": {},
      "outputs": [],
      "source": [
        "# testResults = []\n",
        "# for num_layer_1 in range(1, 10):\n",
        "#     for num_layer_2 in range(1, 10):\n",
        "#         network = Sequential()\n",
        "#         network.add(Dense(units=num_layer_1, input_dim=number_of_inputs, activation=\"relu\"))\n",
        "#         network.add(Dense(units=num_layer_2, activation=\"relu\"))\n",
        "#         network.add(Dense(units=1))\n",
        "#         network.compile(loss=\"mean_squared_error\", optimizer=Adam(), metrics=[\"mse\"])\n",
        "#         network_model = nn.fit(X_train_scaled, y_train, epochs=100)\n",
        "#         model_loss, model_metrics = nn.evaluate(X_test_scaled, y_test, verbose=2)\n",
        "#         testResults.append({'layer1': num_layer_1, 'layer2': num_layer_2, 'loss': model_loss})\n",
        "\n",
        "# try:\n",
        "#     sortedResults = sorted(testResults, key=lambda x: x['loss'])\n",
        "#     for obj in sortedResults:\n",
        "#         print(obj)\n",
        "# except Exception as e:\n",
        "#     for obj in testResults:\n",
        "#         print(obj)"
      ]
    },
    {
      "cell_type": "markdown",
      "metadata": {
        "id": "d9fIyLzgl2-A"
      },
      "source": [
        "### Step 4: Save and export your model to an HDF5 file, and name the file `student_loans.h5`.\n"
      ]
    },
    {
      "cell_type": "code",
      "execution_count": 566,
      "metadata": {
        "colab": {
          "base_uri": "https://localhost:8080/"
        },
        "id": "Ow19MdpCl2-A",
        "outputId": "31297201-9f66-4820-b207-62dd8f782986"
      },
      "outputs": [
        {
          "name": "stderr",
          "output_type": "stream",
          "text": [
            "C:\\Users\\local-home\\AppData\\Local\\Temp\\ipykernel_84304\\2573070496.py:5: UserWarning: You are saving your model as an HDF5 file via `model.save()`. This file format is considered legacy. We recommend using instead the native Keras format, e.g. `model.save('my_model.keras')`.\n",
            "  save_model(nn, model_file_path)\n"
          ]
        }
      ],
      "source": [
        "# Set the model's file path\n",
        "model_file_path = 'my_model.h5'\n",
        "\n",
        "# Export your model to a HDF5 file\n",
        "save_model(nn, model_file_path)"
      ]
    },
    {
      "cell_type": "markdown",
      "metadata": {
        "id": "6PT-pKw6l2-A"
      },
      "source": [
        "---\n",
        "## Predict Loan Repayment Success by Using your Neural Network Model"
      ]
    },
    {
      "cell_type": "markdown",
      "metadata": {
        "id": "fHBYNOfRl2-B"
      },
      "source": [
        "### Step 1: Reload your saved model."
      ]
    },
    {
      "cell_type": "code",
      "execution_count": 567,
      "metadata": {
        "id": "R9jCa2ADl2-B"
      },
      "outputs": [],
      "source": [
        "# Set the model's file path\n",
        "model_file_path = 'my_model.h5'\n",
        "\n",
        "# Load the model to a new object\n",
        "loaded_model = load_model(model_file_path)"
      ]
    },
    {
      "cell_type": "markdown",
      "metadata": {
        "id": "IphlJHLDl2-B"
      },
      "source": [
        "### Step 2: Make predictions on the testing data."
      ]
    },
    {
      "cell_type": "code",
      "execution_count": 568,
      "metadata": {
        "colab": {
          "base_uri": "https://localhost:8080/"
        },
        "id": "xz0JZGyil2-B",
        "outputId": "b5c5b613-eef2-4f29-8916-ad2e8839d5e2"
      },
      "outputs": [
        {
          "name": "stdout",
          "output_type": "stream",
          "text": [
            "13/13 [==============================] - 0s 788us/step\n",
            "13/13 [==============================] - 0s 1ms/step\n"
          ]
        }
      ],
      "source": [
        "# Make predictions on the testing data\n",
        "predictions = nn.predict(X_test_scaled)\n",
        "predictionsScaled = (nn.predict(X_test_scaled).round()).astype(\"int32\")"
      ]
    },
    {
      "cell_type": "markdown",
      "metadata": {
        "id": "jZvs_6FLl2-B"
      },
      "source": [
        "### Step 3: Create a DataFrame to compare the predictions with the actual values."
      ]
    },
    {
      "cell_type": "code",
      "execution_count": 569,
      "metadata": {
        "id": "Ukfd1MEfl2-B"
      },
      "outputs": [],
      "source": [
        "# Create a DataFrame to compare the predictions with the actual values\n",
        "results = pd.DataFrame({\"predictions\": predictions.ravel(), \"actual\": y_test})\n",
        "resultsScaled = pd.DataFrame({\"predictions\": predictionsScaled.ravel(), \"actual\": y_test})"
      ]
    },
    {
      "cell_type": "markdown",
      "metadata": {
        "id": "OC-P9iuBl2-B"
      },
      "source": [
        "### Step 4: Display a sample of the DataFrame you created in step 3."
      ]
    },
    {
      "cell_type": "code",
      "execution_count": 572,
      "metadata": {
        "colab": {
          "base_uri": "https://localhost:8080/",
          "height": 1156
        },
        "id": "6kC38-oGl2-B",
        "outputId": "1eeab19e-5287-4905-e64e-fac42cf1f752"
      },
      "outputs": [
        {
          "data": {
            "text/html": [
              "<div>\n",
              "<style scoped>\n",
              "    .dataframe tbody tr th:only-of-type {\n",
              "        vertical-align: middle;\n",
              "    }\n",
              "\n",
              "    .dataframe tbody tr th {\n",
              "        vertical-align: top;\n",
              "    }\n",
              "\n",
              "    .dataframe thead th {\n",
              "        text-align: right;\n",
              "    }\n",
              "</style>\n",
              "<table border=\"1\" class=\"dataframe\">\n",
              "  <thead>\n",
              "    <tr style=\"text-align: right;\">\n",
              "      <th></th>\n",
              "      <th>predictions</th>\n",
              "      <th>actual</th>\n",
              "    </tr>\n",
              "  </thead>\n",
              "  <tbody>\n",
              "    <tr>\n",
              "      <th>75</th>\n",
              "      <td>4.650062</td>\n",
              "      <td>5</td>\n",
              "    </tr>\n",
              "    <tr>\n",
              "      <th>1283</th>\n",
              "      <td>4.449917</td>\n",
              "      <td>6</td>\n",
              "    </tr>\n",
              "    <tr>\n",
              "      <th>408</th>\n",
              "      <td>5.744474</td>\n",
              "      <td>6</td>\n",
              "    </tr>\n",
              "    <tr>\n",
              "      <th>1281</th>\n",
              "      <td>5.439901</td>\n",
              "      <td>6</td>\n",
              "    </tr>\n",
              "    <tr>\n",
              "      <th>1118</th>\n",
              "      <td>7.063991</td>\n",
              "      <td>6</td>\n",
              "    </tr>\n",
              "    <tr>\n",
              "      <th>1143</th>\n",
              "      <td>6.477099</td>\n",
              "      <td>6</td>\n",
              "    </tr>\n",
              "    <tr>\n",
              "      <th>1215</th>\n",
              "      <td>6.032469</td>\n",
              "      <td>6</td>\n",
              "    </tr>\n",
              "    <tr>\n",
              "      <th>181</th>\n",
              "      <td>5.313588</td>\n",
              "      <td>5</td>\n",
              "    </tr>\n",
              "    <tr>\n",
              "      <th>1186</th>\n",
              "      <td>6.350879</td>\n",
              "      <td>5</td>\n",
              "    </tr>\n",
              "    <tr>\n",
              "      <th>1252</th>\n",
              "      <td>5.440395</td>\n",
              "      <td>5</td>\n",
              "    </tr>\n",
              "  </tbody>\n",
              "</table>\n",
              "</div>"
            ],
            "text/plain": [
              "      predictions  actual\n",
              "75       4.650062       5\n",
              "1283     4.449917       6\n",
              "408      5.744474       6\n",
              "1281     5.439901       6\n",
              "1118     7.063991       6\n",
              "1143     6.477099       6\n",
              "1215     6.032469       6\n",
              "181      5.313588       5\n",
              "1186     6.350879       5\n",
              "1252     5.440395       5"
            ]
          },
          "execution_count": 572,
          "metadata": {},
          "output_type": "execute_result"
        }
      ],
      "source": [
        "# Display sample data\n",
        "results.head(10)"
      ]
    },
    {
      "cell_type": "code",
      "execution_count": 571,
      "metadata": {},
      "outputs": [
        {
          "data": {
            "text/html": [
              "<div>\n",
              "<style scoped>\n",
              "    .dataframe tbody tr th:only-of-type {\n",
              "        vertical-align: middle;\n",
              "    }\n",
              "\n",
              "    .dataframe tbody tr th {\n",
              "        vertical-align: top;\n",
              "    }\n",
              "\n",
              "    .dataframe thead th {\n",
              "        text-align: right;\n",
              "    }\n",
              "</style>\n",
              "<table border=\"1\" class=\"dataframe\">\n",
              "  <thead>\n",
              "    <tr style=\"text-align: right;\">\n",
              "      <th></th>\n",
              "      <th>predictions</th>\n",
              "      <th>actual</th>\n",
              "    </tr>\n",
              "  </thead>\n",
              "  <tbody>\n",
              "    <tr>\n",
              "      <th>75</th>\n",
              "      <td>5</td>\n",
              "      <td>5</td>\n",
              "    </tr>\n",
              "    <tr>\n",
              "      <th>1283</th>\n",
              "      <td>4</td>\n",
              "      <td>6</td>\n",
              "    </tr>\n",
              "    <tr>\n",
              "      <th>408</th>\n",
              "      <td>6</td>\n",
              "      <td>6</td>\n",
              "    </tr>\n",
              "    <tr>\n",
              "      <th>1281</th>\n",
              "      <td>5</td>\n",
              "      <td>6</td>\n",
              "    </tr>\n",
              "    <tr>\n",
              "      <th>1118</th>\n",
              "      <td>7</td>\n",
              "      <td>6</td>\n",
              "    </tr>\n",
              "    <tr>\n",
              "      <th>1143</th>\n",
              "      <td>6</td>\n",
              "      <td>6</td>\n",
              "    </tr>\n",
              "    <tr>\n",
              "      <th>1215</th>\n",
              "      <td>6</td>\n",
              "      <td>6</td>\n",
              "    </tr>\n",
              "    <tr>\n",
              "      <th>181</th>\n",
              "      <td>5</td>\n",
              "      <td>5</td>\n",
              "    </tr>\n",
              "    <tr>\n",
              "      <th>1186</th>\n",
              "      <td>6</td>\n",
              "      <td>5</td>\n",
              "    </tr>\n",
              "    <tr>\n",
              "      <th>1252</th>\n",
              "      <td>5</td>\n",
              "      <td>5</td>\n",
              "    </tr>\n",
              "  </tbody>\n",
              "</table>\n",
              "</div>"
            ],
            "text/plain": [
              "      predictions  actual\n",
              "75              5       5\n",
              "1283            4       6\n",
              "408             6       6\n",
              "1281            5       6\n",
              "1118            7       6\n",
              "1143            6       6\n",
              "1215            6       6\n",
              "181             5       5\n",
              "1186            6       5\n",
              "1252            5       5"
            ]
          },
          "execution_count": 571,
          "metadata": {},
          "output_type": "execute_result"
        }
      ],
      "source": [
        "resultsScaled.head(10)"
      ]
    },
    {
      "cell_type": "markdown",
      "metadata": {},
      "source": [
        "I believe after the rounding the results appear to be relatively good. There is still some variation between the actual scaling; and my models predicted value but it seems like it is a great first pass at predicting. With more data, and some more time in fine tuning I believe this would be a model that could save time of human intervention."
      ]
    }
  ],
  "metadata": {
    "colab": {
      "provenance": []
    },
    "kernelspec": {
      "display_name": "Python 3 (ipykernel)",
      "language": "python",
      "name": "python3"
    },
    "language_info": {
      "codemirror_mode": {
        "name": "ipython",
        "version": 3
      },
      "file_extension": ".py",
      "mimetype": "text/x-python",
      "name": "python",
      "nbconvert_exporter": "python",
      "pygments_lexer": "ipython3",
      "version": "3.11.5"
    }
  },
  "nbformat": 4,
  "nbformat_minor": 0
}
